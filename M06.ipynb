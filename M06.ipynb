{
 "cells": [
  {
   "cell_type": "code",
   "execution_count": 1,
   "id": "c71075ca-c6bd-4996-9fa7-8e9887078d28",
   "metadata": {},
   "outputs": [
    {
     "name": "stdout",
     "output_type": "stream",
     "text": [
      "2024-04-27\n"
     ]
    }
   ],
   "source": [
    "import datetime\n",
    "\n",
    "#13.1\n",
    "today = datetime.date.today()\n",
    "today_string = today.strftime(\"%Y-%m-%d\")\n",
    "\n",
    "with open(\"today.txt\", \"w\") as file:\n",
    "    file.write(today_string)\n",
    "\n",
    "#13.2\n",
    "with open(\"today.txt\",\"r\") as file:\n",
    "    today_string = file.read()\n",
    "\n",
    "#13.3\n",
    "parsed_date = datetime.datetime.strptime(today_string, \"%Y-%m-%d\").date()\n",
    "\n",
    "print(parsed_date)"
   ]
  },
  {
   "cell_type": "code",
   "execution_count": null,
   "id": "a4bed595-735e-41c5-bbf4-08f320a07f9a",
   "metadata": {},
   "outputs": [],
   "source": [
    "#15.1\n",
    "import multiprocessing\n",
    "import random\n",
    "import datetime\n",
    "import time\n",
    "\n",
    "def process_task():\n",
    "    #sleep for a random time between 0 and 1 second\n",
    "    time.sleep(random.random())\n",
    "    print(\"Process ID:\", multiprocessing.current_process().pid, \"Time:\", datetime.datetime.now())\n",
    "\n",
    "if __name__ == '__main__':\n",
    "    #list to keep track of processes\n",
    "    processes = []\n",
    "    for _ in range(3):\n",
    "        p = multiprocessing.Process(target=process_task)\n",
    "        p.start()\n",
    "        processes.append(p)\n",
    "\n",
    "    for p in processes:\n",
    "        p.join()\n",
    "\n",
    "    print(\"All processes have completed.\")"
   ]
  }
 ],
 "metadata": {
  "kernelspec": {
   "display_name": "Python 3 (ipykernel)",
   "language": "python",
   "name": "python3"
  },
  "language_info": {
   "codemirror_mode": {
    "name": "ipython",
    "version": 3
   },
   "file_extension": ".py",
   "mimetype": "text/x-python",
   "name": "python",
   "nbconvert_exporter": "python",
   "pygments_lexer": "ipython3",
   "version": "3.11.7"
  }
 },
 "nbformat": 4,
 "nbformat_minor": 5
}
